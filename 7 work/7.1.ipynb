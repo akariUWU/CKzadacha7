{
 "cells": [
  {
   "cell_type": "code",
   "execution_count": 3,
   "id": "471b9fa8-c246-4829-8561-5d5a0f12c7ec",
   "metadata": {},
   "outputs": [],
   "source": [
    "import cv2\n",
    "import numpy as np\n",
    "\n",
    "def process_image_opencv(file_path):\n",
    "    img = cv2.imread(file_path, cv2.IMREAD_UNCHANGED)\n",
    "\n",
    "    if img.shape[2] == 4:\n",
    "        alpha_channel = img[:, :, 3]\n",
    "        transparent_pixels = alpha_channel == 0\n",
    "\n",
    "        img[transparent_pixels] = [255, 255, 255, 255] \n",
    "\n",
    "    cv2.imwrite('output_image.jpg', img)\n",
    "    cv2.imshow('Processed Image', img)\n",
    "    cv2.waitKey(0)\n",
    "    cv2.destroyAllWindows()\n",
    "\n",
    "process_image_opencv('input_image.jpg')  # Замените на путь изображению"
   ]
  },
  {
   "cell_type": "code",
   "execution_count": null,
   "id": "90195af7-09a1-464f-ba3d-e9216368959b",
   "metadata": {},
   "outputs": [],
   "source": []
  }
 ],
 "metadata": {
  "kernelspec": {
   "display_name": "Python 3 (ipykernel)",
   "language": "python",
   "name": "python3"
  },
  "language_info": {
   "codemirror_mode": {
    "name": "ipython",
    "version": 3
   },
   "file_extension": ".py",
   "mimetype": "text/x-python",
   "name": "python",
   "nbconvert_exporter": "python",
   "pygments_lexer": "ipython3",
   "version": "3.12.4"
  }
 },
 "nbformat": 4,
 "nbformat_minor": 5
}
