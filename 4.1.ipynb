{
 "cells": [
  {
   "cell_type": "code",
   "execution_count": null,
   "id": "5a68244c-c448-4fb0-9727-ea06b0ad91ee",
   "metadata": {},
   "outputs": [
    {
     "name": "stdout",
     "output_type": "stream",
     "text": [
      "Выберите направление преобразования:\n",
      "1. Цельсий в Фаренгейт\n",
      "2. Фаренгейт в Цельсий\n"
     ]
    }
   ],
   "source": [
    "def celsius_to_fahrenheit(celsius):\n",
    "    return (celsius * 9/5) + 32\n",
    "\n",
    "def fahrenheit_to_celsius(fahrenheit):\n",
    "    return (fahrenheit - 32) * 5/9\n",
    "\n",
    "def main():\n",
    "    print(\"Выберите направление преобразования:\")\n",
    "    print(\"1. Цельсий в Фаренгейт\")\n",
    "    print(\"2. Фаренгейт в Цельсий\")\n",
    "\n",
    "    choice = input(\"Введите 1 или 2: \")\n",
    "\n",
    "    if choice == '1':\n",
    "        try:\n",
    "            celsius = float(input(\"Введите температуру в Цельсиях: \"))\n",
    "            fahrenheit = celsius_to_fahrenheit(celsius)\n",
    "            print(f\"{celsius} градусов Цельсия равно {fahrenheit} градусам Фаренгейта.\")\n",
    "        except ValueError:\n",
    "            print(\"Ошибка: Введите числовое значение.\")\n",
    "    elif choice == '2':\n",
    "        try:\n",
    "            fahrenheit = float(input(\"Введите температуру в Фаренгейтах: \"))\n",
    "            celsius = fahrenheit_to_celsius(fahrenheit)\n",
    "            print(f\"{fahrenheit} градусов Фаренгейта равно {celsius} градусам Цельсия.\")\n",
    "        except ValueError:\n",
    "            print(\"Ошибка: Введите числовое значение.\")\n",
    "    else:\n",
    "        print(\"Неверный выбор. Пожалуйста, выберите 1 или 2.\")\n",
    "\n",
    "main()\n"
   ]
  },
  {
   "cell_type": "code",
   "execution_count": null,
   "id": "1049dd14-8426-41d7-87a8-e12d390f849e",
   "metadata": {},
   "outputs": [],
   "source": []
  }
 ],
 "metadata": {
  "kernelspec": {
   "display_name": "Python 3 (ipykernel)",
   "language": "python",
   "name": "python3"
  },
  "language_info": {
   "codemirror_mode": {
    "name": "ipython",
    "version": 3
   },
   "file_extension": ".py",
   "mimetype": "text/x-python",
   "name": "python",
   "nbconvert_exporter": "python",
   "pygments_lexer": "ipython3",
   "version": "3.12.4"
  }
 },
 "nbformat": 4,
 "nbformat_minor": 5
}
