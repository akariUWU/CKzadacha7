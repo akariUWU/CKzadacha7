{
 "cells": [
  {
   "cell_type": "code",
   "execution_count": 1,
   "id": "6577756c-fa49-48aa-8eec-fe4c2d94e913",
   "metadata": {},
   "outputs": [
    {
     "name": "stdout",
     "output_type": "stream",
     "text": [
      "01 September 2024, 18:22:58\n"
     ]
    }
   ],
   "source": [
    "from datetime import datetime\n",
    "\n",
    "def display_current_datetime():\n",
    "    now = datetime.now()\n",
    "    formatted_datetime = now.strftime(\"%d %B %Y, %H:%M:%S\")\n",
    "    print(formatted_datetime)\n",
    "display_current_datetime()"
   ]
  }
 ],
 "metadata": {
  "kernelspec": {
   "display_name": "Python 3 (ipykernel)",
   "language": "python",
   "name": "python3"
  },
  "language_info": {
   "codemirror_mode": {
    "name": "ipython",
    "version": 3
   },
   "file_extension": ".py",
   "mimetype": "text/x-python",
   "name": "python",
   "nbconvert_exporter": "python",
   "pygments_lexer": "ipython3",
   "version": "3.12.4"
  }
 },
 "nbformat": 4,
 "nbformat_minor": 5
}
