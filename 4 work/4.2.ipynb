{
 "cells": [
  {
   "cell_type": "code",
   "execution_count": 2,
   "id": "2623e23f-62a9-480a-902d-144f21810991",
   "metadata": {},
   "outputs": [
    {
     "name": "stdin",
     "output_type": "stream",
     "text": [
      "Введите числа через пробел:  1 1 1 3 2 4 4\n"
     ]
    },
    {
     "name": "stdout",
     "output_type": "stream",
     "text": [
      "Исходный список: [1, 1, 1, 3, 2, 4, 4]\n",
      "Множество без дубликатов: {1, 2, 3, 4}\n"
     ]
    }
   ],
   "source": [
    "def create_set_from_input():\n",
    "    input_string = input(\"Введите числа через пробел: \")\n",
    "    numbers_list = list(map(int, input_string.split()))\n",
    "    print(\"Исходный список:\", numbers_list)\n",
    "    unique_numbers_set = set(numbers_list)\n",
    "    print(\"Множество без дубликатов:\", unique_numbers_set)\n",
    "create_set_from_input()"
   ]
  },
  {
   "cell_type": "code",
   "execution_count": null,
   "id": "109eb03e-80f7-4b4f-aede-8ce828f279ae",
   "metadata": {},
   "outputs": [],
   "source": []
  }
 ],
 "metadata": {
  "kernelspec": {
   "display_name": "Python 3 (ipykernel)",
   "language": "python",
   "name": "python3"
  },
  "language_info": {
   "codemirror_mode": {
    "name": "ipython",
    "version": 3
   },
   "file_extension": ".py",
   "mimetype": "text/x-python",
   "name": "python",
   "nbconvert_exporter": "python",
   "pygments_lexer": "ipython3",
   "version": "3.12.4"
  }
 },
 "nbformat": 4,
 "nbformat_minor": 5
}
