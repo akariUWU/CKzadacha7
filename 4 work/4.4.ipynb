{
 "cells": [
  {
   "cell_type": "code",
   "execution_count": 1,
   "id": "74e558b6-8548-495b-afa8-e37e7456f8ff",
   "metadata": {},
   "outputs": [
    {
     "name": "stdin",
     "output_type": "stream",
     "text": [
      "Введите имя файла изображения: .jpg image_fx_.jpg\n",
      "Введите новое имя для сохранения изменённого изображения: .jpg mfn.png\n"
     ]
    },
    {
     "name": "stdout",
     "output_type": "stream",
     "text": [
      "Размер исходного изображения: (1024, 1024)\n",
      "Размер изменённого изображения: (512, 512)\n",
      "Изменённое изображение сохранено как: mfn.png\n"
     ]
    }
   ],
   "source": [
    "from PIL import Image\n",
    "\n",
    "def resize_image():\n",
    "    file_name = input(\"Введите имя файла изображения: .jpg\")\n",
    "\n",
    "    try:\n",
    "        image = Image.open(file_name)\n",
    "        original_size = image.size\n",
    "\n",
    "        new_size = (original_size[0] // 2, original_size[1] // 2)\n",
    "        resized_image = image.resize(new_size)\n",
    "        new_file_name = input(\"Введите новое имя для сохранения изменённого изображения: .jpg\")\n",
    "        resized_image.save(new_file_name)\n",
    "\n",
    "        print(f\"Размер исходного изображения: {original_size}\")\n",
    "        print(f\"Размер изменённого изображения: {new_size}\")\n",
    "        print(f\"Изменённое изображение сохранено как: {new_file_name}\")\n",
    "\n",
    "    except FileNotFoundError:\n",
    "        print(\"Файл не найден. Пожалуйста, убедитесь, что имя файла введено правильно(не забыть jpg).\")\n",
    "    except Exception as e:\n",
    "        print(f\"Произошла ошибка: {e}\")\n",
    "\n",
    "# Вызываем функцию\n",
    "resize_image()"
   ]
  },
  {
   "cell_type": "code",
   "execution_count": null,
   "id": "0d75ea8c-a1ea-4f03-81e1-40b06d5c731d",
   "metadata": {},
   "outputs": [],
   "source": []
  }
 ],
 "metadata": {
  "kernelspec": {
   "display_name": "Python 3 (ipykernel)",
   "language": "python",
   "name": "python3"
  },
  "language_info": {
   "codemirror_mode": {
    "name": "ipython",
    "version": 3
   },
   "file_extension": ".py",
   "mimetype": "text/x-python",
   "name": "python",
   "nbconvert_exporter": "python",
   "pygments_lexer": "ipython3",
   "version": "3.12.4"
  }
 },
 "nbformat": 4,
 "nbformat_minor": 5
}
