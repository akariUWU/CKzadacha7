{
 "cells": [
  {
   "cell_type": "code",
   "execution_count": null,
   "id": "1d291fb8-e723-40dd-bda6-d58ef933cff8",
   "metadata": {},
   "outputs": [],
   "source": [
    "n = int(input(\"Введите количество элементов Фибоначчи, которые вы хотите получить: \"))\n",
    "fibonacci_list = []\n",
    "a, b = 0, 1\n",
    "for _ in range(n):\n",
    "    fibonacci_list.append(a)\n",
    "    a, b = b, a + b\n",
    "print(\"\\nСписок чисел Фибоначчи до\", n, \"элемента:\")\n",
    "print(fibonacci_list)"
   ]
  },
  {
   "cell_type": "code",
   "execution_count": null,
   "id": "7bed820d-e11a-4481-a401-942aac08d848",
   "metadata": {},
   "outputs": [],
   "source": []
  }
 ],
 "metadata": {
  "kernelspec": {
   "display_name": "Python 3 (ipykernel)",
   "language": "python",
   "name": "python3"
  },
  "language_info": {
   "codemirror_mode": {
    "name": "ipython",
    "version": 3
   },
   "file_extension": ".py",
   "mimetype": "text/x-python",
   "name": "python",
   "nbconvert_exporter": "python",
   "pygments_lexer": "ipython3",
   "version": "3.12.4"
  }
 },
 "nbformat": 4,
 "nbformat_minor": 5
}
