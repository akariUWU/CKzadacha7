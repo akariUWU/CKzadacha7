{
 "cells": [
  {
   "cell_type": "code",
   "execution_count": null,
   "id": "002d9f07-ab2a-4260-8034-5a11a52e9ee3",
   "metadata": {},
   "outputs": [],
   "source": [
    "result = 0\n",
    "first_operation = True\n",
    "while True:\n",
    "    if first_operation:\n",
    "        result = float(input(\"Введите первое число (или 'exit' для выхода): \"))\n",
    "        first_operation = False\n",
    "    else:\n",
    "        print(f\"Текущий результат: {result}\")\n",
    "    operator = input(\"Введите оператор (+, -, *, /) или 'exit' для выхода: \")\n",
    "    if operator.lower() == 'exit':\n",
    "        print(f\"Окончательный ответ: {result}\")\n",
    "        break\n",
    "    num2 = float(input(\"Введите второе число: \"))\n",
    "    if operator == '+':\n",
    "        result += num2\n",
    "    elif operator == '-':\n",
    "        result -= num2\n",
    "    elif operator == '*':\n",
    "        result *= num2\n",
    "    elif operator == '/':\n",
    "        if num2 != 0:\n",
    "            result /= num2\n",
    "        else:\n",
    "            print(\"Ошибка: Деление на ноль!\")\n",
    "            continue  \n",
    "    else:\n",
    "        print(\"Ошибка: Неверный оператор!\")\n",
    "        continue \n",
    "    print(f\"Текущий результат: {result}\\n\")\n"
   ]
  },
  {
   "cell_type": "code",
   "execution_count": null,
   "id": "fe2f9909-215b-4953-95bc-f843916ab54a",
   "metadata": {},
   "outputs": [],
   "source": []
  }
 ],
 "metadata": {
  "kernelspec": {
   "display_name": "Python 3 (ipykernel)",
   "language": "python",
   "name": "python3"
  },
  "language_info": {
   "codemirror_mode": {
    "name": "ipython",
    "version": 3
   },
   "file_extension": ".py",
   "mimetype": "text/x-python",
   "name": "python",
   "nbconvert_exporter": "python",
   "pygments_lexer": "ipython3",
   "version": "3.12.4"
  }
 },
 "nbformat": 4,
 "nbformat_minor": 5
}
