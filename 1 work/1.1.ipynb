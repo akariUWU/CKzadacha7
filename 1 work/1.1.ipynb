{
 "cells": [
  {
   "cell_type": "code",
   "execution_count": 1,
   "id": "8e6a6416-219e-48aa-b45b-610dac5d6f81",
   "metadata": {},
   "outputs": [
    {
     "name": "stdin",
     "output_type": "stream",
     "text": [
      "Введите ваше имя:  дима\n",
      "Введите ваш возраст:  22\n",
      "Введите ваш любимый цвет:  красный\n"
     ]
    },
    {
     "name": "stdout",
     "output_type": "stream",
     "text": [
      "\n",
      "Спасибо за информацию!\n",
      "Ваше имя: дима\n",
      "Ваш возраст: 22 лет\n",
      "Ваш любимый цвет: красный\n"
     ]
    }
   ],
   "source": [
    "name = input(\"Введите ваше имя: \")\n",
    "age = input(\"Введите ваш возраст: \")\n",
    "favorite_color = input(\"Введите ваш любимый цвет: \")\n",
    "print(\"\\nСпасибо за информацию!\")\n",
    "print(f\"Ваше имя: {name}\")\n",
    "print(f\"Ваш возраст: {age} лет\")\n",
    "print(f\"Ваш любимый цвет: {favorite_color}\")"
   ]
  },
  {
   "cell_type": "code",
   "execution_count": null,
   "id": "f8240235-1e3f-4091-b0af-c0356f204f03",
   "metadata": {},
   "outputs": [],
   "source": []
  }
 ],
 "metadata": {
  "kernelspec": {
   "display_name": "Python 3 (ipykernel)",
   "language": "python",
   "name": "python3"
  },
  "language_info": {
   "codemirror_mode": {
    "name": "ipython",
    "version": 3
   },
   "file_extension": ".py",
   "mimetype": "text/x-python",
   "name": "python",
   "nbconvert_exporter": "python",
   "pygments_lexer": "ipython3",
   "version": "3.12.4"
  }
 },
 "nbformat": 4,
 "nbformat_minor": 5
}
