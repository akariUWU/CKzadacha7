{
 "cells": [
  {
   "cell_type": "code",
   "execution_count": 1,
   "id": "4737c387-2730-4271-b947-427ec4c02762",
   "metadata": {},
   "outputs": [],
   "source": [
    "import cv2\n",
    "\n",
    "def resize_image_opencv(file_path, output_path, size):\n",
    "    img = cv2.imread(file_path)\n",
    "    img_resized = cv2.resize(img, size)\n",
    "    cv2.imwrite(output_path, img_resized)\n",
    "\n",
    "def convert_to_bw_opencv(file_path, output_path):\n",
    "    img = cv2.imread(file_path)\n",
    "    img_bw = cv2.cvtColor(img, cv2.COLOR_BGR2GRAY)\n",
    "    cv2.imwrite(output_path, img_bw)\n",
    "\n",
    "def apply_gaussian_blur_opencv(file_path, output_path, kernel_size):\n",
    "    img = cv2.imread(file_path)\n",
    "    img_blurred = cv2.GaussianBlur(img, (kernel_size, kernel_size), 0)\n",
    "    cv2.imwrite(output_path, img_blurred)\n",
    "\n",
    "resize_image_opencv('input_image.jpg', 'resized_image.jpg', (200, 200))\n",
    "convert_to_bw_opencv('input_image.jpg', 'bw_image.jpg')\n",
    "apply_gaussian_blur_opencv('input_image.jpg', 'blurred_image.jpg', 5)\n"
   ]
  },
  {
   "cell_type": "code",
   "execution_count": null,
   "id": "705a25bc-cf13-4fa2-93ef-6267350441be",
   "metadata": {},
   "outputs": [],
   "source": []
  }
 ],
 "metadata": {
  "kernelspec": {
   "display_name": "Python 3 (ipykernel)",
   "language": "python",
   "name": "python3"
  },
  "language_info": {
   "codemirror_mode": {
    "name": "ipython",
    "version": 3
   },
   "file_extension": ".py",
   "mimetype": "text/x-python",
   "name": "python",
   "nbconvert_exporter": "python",
   "pygments_lexer": "ipython3",
   "version": "3.12.4"
  }
 },
 "nbformat": 4,
 "nbformat_minor": 5
}
