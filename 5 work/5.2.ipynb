{
 "cells": [
  {
   "cell_type": "code",
   "execution_count": 1,
   "id": "9ccf6e9f-b1e9-46cd-9e46-314b5ed271da",
   "metadata": {},
   "outputs": [
    {
     "name": "stdout",
     "output_type": "stream",
     "text": [
      "Общий доход по каждому продукту:\n",
      "Продукт ID 101: $60.00\n",
      "Продукт ID 102: $45.00\n",
      "Продукт ID 103: $35.00\n",
      "\n",
      "Данные успешно конвертированы в data.json.\n"
     ]
    }
   ],
   "source": [
    "import csv\n",
    "import json\n",
    "from collections import defaultdict\n",
    "\n",
    "def create_csv_file(filename):\n",
    "    with open(filename, mode='w', newline='') as file:\n",
    "        writer = csv.writer(file)\n",
    "        writer.writerow(['sale_id', 'date', 'product_id', 'quantity', 'unit_price'])\n",
    "        writer.writerow([1, '2023-01-01', 101, 2, 10.00])\n",
    "        writer.writerow([2, '2023-01-02', 102, 1, 15.00])\n",
    "        writer.writerow([3, '2023-01-01', 101, 3, 10.00])\n",
    "        writer.writerow([4, '2023-01-03', 103, 5, 7.00])\n",
    "        writer.writerow([5, '2023-01-02', 102, 2, 15.00])\n",
    "        writer.writerow([6, '2023-01-01', 101, 1, 10.00])\n",
    "\n",
    "def calculate_total_income(filename):\n",
    "    total_income = defaultdict(float)\n",
    "\n",
    "    with open(filename, mode='r', newline='') as file:\n",
    "        reader = csv.DictReader(file)\n",
    "        for row in reader:\n",
    "            product_id = row['product_id']\n",
    "            quantity = int(row['quantity'])\n",
    "            unit_price = float(row['unit_price'])\n",
    "            income = quantity * unit_price\n",
    "            total_income[product_id] += income\n",
    "\n",
    "    return total_income\n",
    "\n",
    "def convert_csv_to_json(csv_filename, json_filename):\n",
    "    data = []\n",
    "    \n",
    "    with open(csv_filename, mode='r', newline='') as file:\n",
    "        reader = csv.DictReader(file)\n",
    "        for row in reader:\n",
    "            data.append(row)\n",
    "\n",
    "    with open(json_filename, mode='w') as json_file:\n",
    "        json.dump(data, json_file, indent=4)\n",
    "\n",
    "if __name__ == \"__main__\":\n",
    "    csv_filename = 'data.csv'\n",
    "    json_filename = 'data.json'\n",
    "    \n",
    "    create_csv_file(csv_filename)\n",
    "    total_income = calculate_total_income(csv_filename)\n",
    "    convert_csv_to_json(csv_filename, json_filename)\n",
    "\n",
    "    print(\"Общий доход по каждому продукту:\")\n",
    "    for product_id, income in total_income.items():\n",
    "        print(f\"Продукт ID {product_id}: ${income:.2f}\")\n",
    "\n",
    "    print(f\"\\nДанные успешно конвертированы в {json_filename}.\")\n"
   ]
  },
  {
   "cell_type": "code",
   "execution_count": null,
   "id": "bab48c81-9efa-4814-886a-586f976af821",
   "metadata": {},
   "outputs": [],
   "source": []
  }
 ],
 "metadata": {
  "kernelspec": {
   "display_name": "Python 3 (ipykernel)",
   "language": "python",
   "name": "python3"
  },
  "language_info": {
   "codemirror_mode": {
    "name": "ipython",
    "version": 3
   },
   "file_extension": ".py",
   "mimetype": "text/x-python",
   "name": "python",
   "nbconvert_exporter": "python",
   "pygments_lexer": "ipython3",
   "version": "3.12.4"
  }
 },
 "nbformat": 4,
 "nbformat_minor": 5
}
