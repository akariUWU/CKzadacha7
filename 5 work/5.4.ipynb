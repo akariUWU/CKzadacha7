{
 "cells": [
  {
   "cell_type": "code",
   "execution_count": 1,
   "id": "946d5dae-52e3-4261-9c78-b16790e8275e",
   "metadata": {},
   "outputs": [
    {
     "name": "stdout",
     "output_type": "stream",
     "text": [
      "Пост с максимальным количеством комментариев:\n",
      "ID: 1, Title: sunt aut facere repellat provident occaecati excepturi optio reprehenderit, Comments: 5\n"
     ]
    }
   ],
   "source": [
    "import requests\n",
    "\n",
    "def fetch_posts():\n",
    "    with requests.Session() as session:\n",
    "        response = session.get('https://jsonplaceholder.typicode.com/posts')\n",
    "        if response.status_code == 200:\n",
    "            return response.json()\n",
    "        else:\n",
    "            print(f\"Ошибка при получении постов: {response.status_code}\")\n",
    "            return None\n",
    "\n",
    "def fetch_comments():\n",
    "    with requests.Session() as session:\n",
    "        response = session.get('https://jsonplaceholder.typicode.com/comments')\n",
    "        if response.status_code == 200:\n",
    "            return response.json()\n",
    "        else:\n",
    "            print(f\"Ошибка при получении комментариев: {response.status_code}\")\n",
    "            return None\n",
    "\n",
    "def find_post_with_max_comments(posts, comments):\n",
    "    comment_count = {post['id']: 0 for post in posts}\n",
    "\n",
    "    for comment in comments:\n",
    "        post_id = comment['postId']\n",
    "        if post_id in comment_count:\n",
    "            comment_count[post_id] += 1\n",
    "\n",
    "    max_comments_post_id = max(comment_count, key=comment_count.get)\n",
    "    max_comments_count = comment_count[max_comments_post_id]\n",
    "\n",
    "    max_comments_post = next(post for post in posts if post['id'] == max_comments_post_id)\n",
    "\n",
    "    return max_comments_post, max_comments_count\n",
    "\n",
    "if __name__ == \"__main__\":\n",
    "    posts = fetch_posts()\n",
    "    comments = fetch_comments()\n",
    "\n",
    "    if posts is not None and comments is not None:\n",
    "        max_comments_post, max_comments_count = find_post_with_max_comments(posts, comments)\n",
    "        print(f\"Пост с максимальным количеством комментариев:\")\n",
    "        print(f\"ID: {max_comments_post['id']}, Title: {max_comments_post['title']}, Comments: {max_comments_count}\")\n"
   ]
  },
  {
   "cell_type": "code",
   "execution_count": null,
   "id": "d833e124-7016-4577-a5fd-5eb41d6b34f1",
   "metadata": {},
   "outputs": [],
   "source": []
  }
 ],
 "metadata": {
  "kernelspec": {
   "display_name": "Python 3 (ipykernel)",
   "language": "python",
   "name": "python3"
  },
  "language_info": {
   "codemirror_mode": {
    "name": "ipython",
    "version": 3
   },
   "file_extension": ".py",
   "mimetype": "text/x-python",
   "name": "python",
   "nbconvert_exporter": "python",
   "pygments_lexer": "ipython3",
   "version": "3.12.4"
  }
 },
 "nbformat": 4,
 "nbformat_minor": 5
}
