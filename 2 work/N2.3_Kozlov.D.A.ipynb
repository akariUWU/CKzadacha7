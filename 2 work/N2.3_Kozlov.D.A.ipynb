{
 "cells": [
  {
   "cell_type": "code",
   "execution_count": 2,
   "id": "6a287e97-fa04-40d2-8eb3-0af7b5b4cf7a",
   "metadata": {},
   "outputs": [
    {
     "name": "stdin",
     "output_type": "stream",
     "text": [
      "Введите числа через запятую:  1,2,3,4,5\n"
     ]
    },
    {
     "name": "stdout",
     "output_type": "stream",
     "text": [
      "Сумма: 15\n",
      "Произведение: 120\n",
      "Среднее арифметическое: 3.0\n"
     ]
    }
   ],
   "source": [
    "from functools import reduce\n",
    "import operator\n",
    "\n",
    "def calculate_statistics(numbers):\n",
    "    if not numbers:  # Проверка на пустой список\n",
    "        return 0, 0, 0\n",
    "        \n",
    "    total_sum = sum(numbers)  # Сумма чисел\n",
    "    product = reduce(operator.mul, numbers, 1)  # Произведение чисел\n",
    "    average = total_sum / len(numbers)  # Среднее арифметическое\n",
    "\n",
    "    return total_sum, product, average\n",
    "user_input = input(\"Введите числа через запятую: \")\n",
    "my_numbers = list(map(int, user_input.split(','))) \n",
    "\n",
    "total_sum, product, average = calculate_statistics(my_numbers)\n",
    "\n",
    "print(f\"Сумма: {total_sum}\")\n",
    "print(f\"Произведение: {product}\")\n",
    "print(f\"Среднее арифметическое: {average}\")"
   ]
  },
  {
   "cell_type": "code",
   "execution_count": null,
   "id": "73d419de-518c-4b12-9a19-45d149b7b7b5",
   "metadata": {},
   "outputs": [],
   "source": []
  }
 ],
 "metadata": {
  "kernelspec": {
   "display_name": "Python 3 (ipykernel)",
   "language": "python",
   "name": "python3"
  },
  "language_info": {
   "codemirror_mode": {
    "name": "ipython",
    "version": 3
   },
   "file_extension": ".py",
   "mimetype": "text/x-python",
   "name": "python",
   "nbconvert_exporter": "python",
   "pygments_lexer": "ipython3",
   "version": "3.12.4"
  }
 },
 "nbformat": 4,
 "nbformat_minor": 5
}
