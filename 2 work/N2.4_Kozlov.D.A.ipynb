{
 "cells": [
  {
   "cell_type": "code",
   "execution_count": 1,
   "id": "0cafcbc9-d284-4e41-a092-eb442e7411c5",
   "metadata": {},
   "outputs": [
    {
     "name": "stdin",
     "output_type": "stream",
     "text": [
      "Введите первое число:  48\n",
      "Введите второе число:  18\n"
     ]
    },
    {
     "name": "stdout",
     "output_type": "stream",
     "text": [
      "Наибольший общий делитель чисел 48 и 18 равен 6.\n"
     ]
    }
   ],
   "source": [
    "def gcd(a, b):\n",
    "    while b != 0: \n",
    "        a, b = b, a % b  \n",
    "    return a  \n",
    "def main():\n",
    "    try:\n",
    "        num1 = int(input(\"Введите первое число: \"))\n",
    "        num2 = int(input(\"Введите второе число: \"))\n",
    "    except ValueError:\n",
    "        print(\"Ошибка: Пожалуйста, введите целые числа.\")\n",
    "        return\n",
    "    result = gcd(num1, num2)\n",
    "\n",
    "    print(f\"Наибольший общий делитель чисел {num1} и {num2} равен {result}.\")\n",
    "\n",
    "if __name__ == \"__main__\":\n",
    "    main()\n"
   ]
  },
  {
   "cell_type": "code",
   "execution_count": null,
   "id": "f2d5a6bd-63e8-4504-af1a-9e8f2f4c8342",
   "metadata": {},
   "outputs": [],
   "source": []
  }
 ],
 "metadata": {
  "kernelspec": {
   "display_name": "Python 3 (ipykernel)",
   "language": "python",
   "name": "python3"
  },
  "language_info": {
   "codemirror_mode": {
    "name": "ipython",
    "version": 3
   },
   "file_extension": ".py",
   "mimetype": "text/x-python",
   "name": "python",
   "nbconvert_exporter": "python",
   "pygments_lexer": "ipython3",
   "version": "3.12.4"
  }
 },
 "nbformat": 4,
 "nbformat_minor": 5
}
